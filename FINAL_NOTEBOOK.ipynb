{
 "cells": [
  {
   "cell_type": "code",
   "execution_count": 2,
   "metadata": {},
   "outputs": [],
   "source": [
    "import pandas as pd\n",
    "import numpy as np\n",
    "import utils\n",
    "import swifter\n",
    "import xgboost\n",
    "PATH = './data'"
   ]
  },
  {
   "cell_type": "code",
   "execution_count": null,
   "metadata": {},
   "outputs": [],
   "source": [
    "%time train, test = utils.load_data_csv(\"./data\", utils.SIMPLE_FEATURE_COLUMNS + utils.FOI_COLUMNS)"
   ]
  },
  {
   "cell_type": "code",
   "execution_count": 3,
   "metadata": {},
   "outputs": [],
   "source": [
    "test = pd.read_csv('test_private_v3_track_1.csv.gz')"
   ]
  },
  {
   "cell_type": "markdown",
   "metadata": {},
   "source": [
    "### Find closest hits"
   ]
  },
  {
   "cell_type": "code",
   "execution_count": null,
   "metadata": {},
   "outputs": [],
   "source": [
    "closest_hits_features_train = train.swifter.apply(\n",
    "    utils.find_closest_hit_per_station, result_type=\"expand\", axis=1)"
   ]
  },
  {
   "cell_type": "code",
   "execution_count": 5,
   "metadata": {},
   "outputs": [
    {
     "name": "stderr",
     "output_type": "stream",
     "text": [
      "Pandas Apply: 100%|██████████████████████████████████████████████████████████████████████████████████████████████████████████████████████████████████████████████████████████████████████████████| 1452188/1452188 [13:12<00:00, 1833.29it/s]\n"
     ]
    }
   ],
   "source": [
    "closest_hits_features_test = test.swifter.apply(utils.find_closest_hit_per_station, result_type=\"expand\", axis=1)"
   ]
  },
  {
   "cell_type": "code",
   "execution_count": null,
   "metadata": {},
   "outputs": [],
   "source": [
    "train_closest = pd.concat(\n",
    "    [train.loc[:, utils.SIMPLE_FEATURE_COLUMNS],\n",
    "     closest_hits_features], axis=1)"
   ]
  },
  {
   "cell_type": "code",
   "execution_count": 10,
   "metadata": {},
   "outputs": [],
   "source": [
    "test_closest = pd.concat(\n",
    "    [test.loc[:, utils.SIMPLE_FEATURE_COLUMNS],\n",
    "     closest_hits_features_test], axis=1)"
   ]
  },
  {
   "cell_type": "markdown",
   "metadata": {},
   "source": [
    "### Find D^2"
   ]
  },
  {
   "cell_type": "code",
   "execution_count": 12,
   "metadata": {},
   "outputs": [],
   "source": [
    "# train_closest_isMuon_D = train_closest_isMuon.copy()\n",
    "test_closest_isMuon_D = test_closest.copy()"
   ]
  },
  {
   "cell_type": "code",
   "execution_count": 19,
   "metadata": {},
   "outputs": [],
   "source": [
    "# train_closest_isMuon_D = pd.concat(\n",
    "#     train_closest_isMuon_D,\n",
    "#      train['FOI_hits_S'], axis=1)\n",
    "test_closest_isMuon_D = pd.concat([test_closest_isMuon_D, test['FOI_hits_S']], axis = 1)"
   ]
  },
  {
   "cell_type": "code",
   "execution_count": 33,
   "metadata": {},
   "outputs": [],
   "source": [
    "renamer = dict(zip([i for i in range(24)], [str(i) for i in range(24)]))"
   ]
  },
  {
   "cell_type": "code",
   "execution_count": 39,
   "metadata": {},
   "outputs": [],
   "source": [
    "test_closest_isMuon_D.rename(columns = renamer, inplace = True)"
   ]
  },
  {
   "cell_type": "code",
   "execution_count": 41,
   "metadata": {},
   "outputs": [],
   "source": [
    "# train_closest_isMuon_D['D^2'] = utils.calc_D(train_closest_isMuon_D)\n",
    "test_closest_isMuon_D['D^2'] = utils.calc_D(test_closest_isMuon_D)"
   ]
  },
  {
   "cell_type": "markdown",
   "metadata": {},
   "source": [
    "### Train model + get predictions"
   ]
  },
  {
   "cell_type": "code",
   "execution_count": null,
   "metadata": {},
   "outputs": [],
   "source": [
    "model = xgboost.XGBClassifier(n_jobs=-1)"
   ]
  },
  {
   "cell_type": "code",
   "execution_count": null,
   "metadata": {},
   "outputs": [],
   "source": [
    "model.fit(train_closest_isMuon_D.values,\n",
    "              train_closest_isMuon_D.label.values,\n",
    "              sample_weight=train_closest_isMuon_D.weight.values)"
   ]
  },
  {
   "cell_type": "code",
   "execution_count": null,
   "metadata": {},
   "outputs": [],
   "source": [
    "predictions = model.predict_proba(test_closest_isMuon_D.values)[:, 1]"
   ]
  },
  {
   "cell_type": "code",
   "execution_count": null,
   "metadata": {},
   "outputs": [],
   "source": [
    "pd.DataFrame(data={\"prediction\": predictions}, index=test_closest_isMuon_D.index).to_csv(\n",
    "    \"sample_submission.csv\", index_label=utils.ID_COLUMN)"
   ]
  },
  {
   "cell_type": "markdown",
   "metadata": {},
   "source": [
    "### Weighted averaging"
   ]
  },
  {
   "cell_type": "code",
   "execution_count": 2,
   "metadata": {},
   "outputs": [],
   "source": [
    "import pandas as pd\n",
    "train = pd.read_csv('train_concat_foiS_D2.csv').drop(columns = ['Unnamed: 0', 'Unnamed: 0.1', 'Unnamed: 0.1.1', 'FOI_hits_S'])"
   ]
  },
  {
   "cell_type": "code",
   "execution_count": 4,
   "metadata": {},
   "outputs": [],
   "source": [
    "import xgboost"
   ]
  },
  {
   "cell_type": "code",
   "execution_count": null,
   "metadata": {},
   "outputs": [],
   "source": [
    "model_xgb = xgboost.XGBClassifier(n_jobs=-1)\n",
    "%time model.fit(train.drop(columns = ['label', 'weight']).values,\\\n",
    "              train.label.values, sample_weight=train.weight.values)"
   ]
  },
  {
   "cell_type": "code",
   "execution_count": 8,
   "metadata": {},
   "outputs": [],
   "source": [
    "test = pd.read_csv('test_concat_foiS_D2.csv')"
   ]
  },
  {
   "cell_type": "code",
   "execution_count": 10,
   "metadata": {},
   "outputs": [],
   "source": [
    "test.drop(columns = ['Unnamed: 0', 'Unnamed: 0.1', 'FOI_hits_S'], inplace = True)"
   ]
  },
  {
   "cell_type": "code",
   "execution_count": 44,
   "metadata": {},
   "outputs": [],
   "source": [
    "pred_xgb = model_xgb.predict_proba(test_closest_isMuon_D.drop(columns = 'FOI_hits_S').values)[:, 1]\n"
   ]
  },
  {
   "cell_type": "code",
   "execution_count": 45,
   "metadata": {},
   "outputs": [],
   "source": [
    "predictions = pred_xgb"
   ]
  },
  {
   "cell_type": "code",
   "execution_count": 46,
   "metadata": {},
   "outputs": [],
   "source": [
    "import utils\n",
    "pd.DataFrame(data={\"prediction\": predictions}, index=test.index).to_csv(\n",
    "    \"ensemble/final_preds.csv\", index_label=utils.ID_COLUMN)"
   ]
  }
 ],
 "metadata": {
  "kernelspec": {
   "display_name": "Python 3",
   "language": "python",
   "name": "python3"
  },
  "language_info": {
   "codemirror_mode": {
    "name": "ipython",
    "version": 3
   },
   "file_extension": ".py",
   "mimetype": "text/x-python",
   "name": "python",
   "nbconvert_exporter": "python",
   "pygments_lexer": "ipython3",
   "version": "3.6.6"
  }
 },
 "nbformat": 4,
 "nbformat_minor": 2
}
